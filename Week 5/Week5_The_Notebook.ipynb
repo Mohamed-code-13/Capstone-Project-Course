{
 "cells": [
  {
   "cell_type": "markdown",
   "metadata": {},
   "source": [
    "# BY: Mohamed Ashraf Gaber"
   ]
  },
  {
   "cell_type": "markdown",
   "metadata": {},
   "source": [
    "## The Battle of Neighborhoods."
   ]
  },
  {
   "cell_type": "markdown",
   "metadata": {},
   "source": [
    "## Importing Libraries I'll use."
   ]
  },
  {
   "cell_type": "code",
   "execution_count": 1,
   "metadata": {},
   "outputs": [],
   "source": [
    "import numpy as np\n",
    "import pandas as pd\n",
    "import bs4\n",
    "import requests\n",
    "from lxml import html\n",
    "from geopy.geocoders import Nominatim\n",
    "from sklearn.cluster import KMeans  # Importing KMeans (The model I will use)\n",
    "import folium # map rendering library\n",
    "# Matplotlib and associated plotting modules\n",
    "import matplotlib.cm as cm\n",
    "import matplotlib.colors as colors\n",
    "import matplotlib.pyplot as plt\n",
    "import seaborn as sns"
   ]
  },
  {
   "cell_type": "markdown",
   "metadata": {},
   "source": [
    "## Setting the url and make request to the url"
   ]
  },
  {
   "cell_type": "code",
   "execution_count": 2,
   "metadata": {},
   "outputs": [],
   "source": [
    "url = 'https://en.wikipedia.org/wiki/List_of_postal_codes_of_Canada:_M'\n",
    "\n",
    "result = requests.get(url)"
   ]
  },
  {
   "cell_type": "markdown",
   "metadata": {},
   "source": [
    "## Making a BeautifulSoup Object with the the content (HTML) of the page.\n",
    "## Getting only the first table in the page.\n",
    "## Reading it using Pandas."
   ]
  },
  {
   "cell_type": "code",
   "execution_count": 3,
   "metadata": {},
   "outputs": [],
   "source": [
    "soup = bs4.BeautifulSoup(result.content, 'lxml')\n",
    "\n",
    "first_table = soup.find_all('table')[0]\n",
    "\n",
    "data = pd.read_html(str(first_table))"
   ]
  },
  {
   "cell_type": "markdown",
   "metadata": {},
   "source": [
    "## Converting the data into Json and show the head of it (first 5)."
   ]
  },
  {
   "cell_type": "code",
   "execution_count": 4,
   "metadata": {},
   "outputs": [
    {
     "data": {
      "text/html": [
       "<div>\n",
       "<style scoped>\n",
       "    .dataframe tbody tr th:only-of-type {\n",
       "        vertical-align: middle;\n",
       "    }\n",
       "\n",
       "    .dataframe tbody tr th {\n",
       "        vertical-align: top;\n",
       "    }\n",
       "\n",
       "    .dataframe thead th {\n",
       "        text-align: right;\n",
       "    }\n",
       "</style>\n",
       "<table border=\"1\" class=\"dataframe\">\n",
       "  <thead>\n",
       "    <tr style=\"text-align: right;\">\n",
       "      <th></th>\n",
       "      <th>Postal Code</th>\n",
       "      <th>Borough</th>\n",
       "      <th>Neighborhood</th>\n",
       "    </tr>\n",
       "  </thead>\n",
       "  <tbody>\n",
       "    <tr>\n",
       "      <th>0</th>\n",
       "      <td>M1A</td>\n",
       "      <td>Not assigned</td>\n",
       "      <td>None</td>\n",
       "    </tr>\n",
       "    <tr>\n",
       "      <th>1</th>\n",
       "      <td>M2A</td>\n",
       "      <td>Not assigned</td>\n",
       "      <td>None</td>\n",
       "    </tr>\n",
       "    <tr>\n",
       "      <th>2</th>\n",
       "      <td>M3A</td>\n",
       "      <td>North York</td>\n",
       "      <td>Parkwoods</td>\n",
       "    </tr>\n",
       "    <tr>\n",
       "      <th>3</th>\n",
       "      <td>M4A</td>\n",
       "      <td>North York</td>\n",
       "      <td>Victoria Village</td>\n",
       "    </tr>\n",
       "    <tr>\n",
       "      <th>4</th>\n",
       "      <td>M5A</td>\n",
       "      <td>Downtown Toronto</td>\n",
       "      <td>Regent Park, Harbourfront</td>\n",
       "    </tr>\n",
       "  </tbody>\n",
       "</table>\n",
       "</div>"
      ],
      "text/plain": [
       "  Postal Code           Borough               Neighborhood\n",
       "0         M1A      Not assigned                       None\n",
       "1         M2A      Not assigned                       None\n",
       "2         M3A        North York                  Parkwoods\n",
       "3         M4A        North York           Victoria Village\n",
       "4         M5A  Downtown Toronto  Regent Park, Harbourfront"
      ]
     },
     "execution_count": 4,
     "metadata": {},
     "output_type": "execute_result"
    }
   ],
   "source": [
    "df = pd.read_json(data[0].to_json())\n",
    "\n",
    "df.head()"
   ]
  },
  {
   "cell_type": "markdown",
   "metadata": {},
   "source": [
    "## Ignoring cells with a borough that is Not assigned."
   ]
  },
  {
   "cell_type": "code",
   "execution_count": 5,
   "metadata": {},
   "outputs": [
    {
     "data": {
      "text/html": [
       "<div>\n",
       "<style scoped>\n",
       "    .dataframe tbody tr th:only-of-type {\n",
       "        vertical-align: middle;\n",
       "    }\n",
       "\n",
       "    .dataframe tbody tr th {\n",
       "        vertical-align: top;\n",
       "    }\n",
       "\n",
       "    .dataframe thead th {\n",
       "        text-align: right;\n",
       "    }\n",
       "</style>\n",
       "<table border=\"1\" class=\"dataframe\">\n",
       "  <thead>\n",
       "    <tr style=\"text-align: right;\">\n",
       "      <th></th>\n",
       "      <th>Postal Code</th>\n",
       "      <th>Borough</th>\n",
       "      <th>Neighborhood</th>\n",
       "    </tr>\n",
       "  </thead>\n",
       "  <tbody>\n",
       "    <tr>\n",
       "      <th>2</th>\n",
       "      <td>M3A</td>\n",
       "      <td>North York</td>\n",
       "      <td>Parkwoods</td>\n",
       "    </tr>\n",
       "    <tr>\n",
       "      <th>3</th>\n",
       "      <td>M4A</td>\n",
       "      <td>North York</td>\n",
       "      <td>Victoria Village</td>\n",
       "    </tr>\n",
       "    <tr>\n",
       "      <th>4</th>\n",
       "      <td>M5A</td>\n",
       "      <td>Downtown Toronto</td>\n",
       "      <td>Regent Park, Harbourfront</td>\n",
       "    </tr>\n",
       "    <tr>\n",
       "      <th>5</th>\n",
       "      <td>M6A</td>\n",
       "      <td>North York</td>\n",
       "      <td>Lawrence Manor, Lawrence Heights</td>\n",
       "    </tr>\n",
       "    <tr>\n",
       "      <th>6</th>\n",
       "      <td>M7A</td>\n",
       "      <td>Downtown Toronto</td>\n",
       "      <td>Queen's Park, Ontario Provincial Government</td>\n",
       "    </tr>\n",
       "    <tr>\n",
       "      <th>8</th>\n",
       "      <td>M9A</td>\n",
       "      <td>Etobicoke</td>\n",
       "      <td>Islington Avenue, Humber Valley Village</td>\n",
       "    </tr>\n",
       "    <tr>\n",
       "      <th>9</th>\n",
       "      <td>M1B</td>\n",
       "      <td>Scarborough</td>\n",
       "      <td>Malvern, Rouge</td>\n",
       "    </tr>\n",
       "    <tr>\n",
       "      <th>11</th>\n",
       "      <td>M3B</td>\n",
       "      <td>North York</td>\n",
       "      <td>Don Mills</td>\n",
       "    </tr>\n",
       "    <tr>\n",
       "      <th>12</th>\n",
       "      <td>M4B</td>\n",
       "      <td>East York</td>\n",
       "      <td>Parkview Hill, Woodbine Gardens</td>\n",
       "    </tr>\n",
       "    <tr>\n",
       "      <th>13</th>\n",
       "      <td>M5B</td>\n",
       "      <td>Downtown Toronto</td>\n",
       "      <td>Garden District, Ryerson</td>\n",
       "    </tr>\n",
       "    <tr>\n",
       "      <th>14</th>\n",
       "      <td>M6B</td>\n",
       "      <td>North York</td>\n",
       "      <td>Glencairn</td>\n",
       "    </tr>\n",
       "  </tbody>\n",
       "</table>\n",
       "</div>"
      ],
      "text/plain": [
       "   Postal Code           Borough                                 Neighborhood\n",
       "2          M3A        North York                                    Parkwoods\n",
       "3          M4A        North York                             Victoria Village\n",
       "4          M5A  Downtown Toronto                    Regent Park, Harbourfront\n",
       "5          M6A        North York             Lawrence Manor, Lawrence Heights\n",
       "6          M7A  Downtown Toronto  Queen's Park, Ontario Provincial Government\n",
       "8          M9A         Etobicoke      Islington Avenue, Humber Valley Village\n",
       "9          M1B       Scarborough                               Malvern, Rouge\n",
       "11         M3B        North York                                    Don Mills\n",
       "12         M4B         East York              Parkview Hill, Woodbine Gardens\n",
       "13         M5B  Downtown Toronto                     Garden District, Ryerson\n",
       "14         M6B        North York                                    Glencairn"
      ]
     },
     "execution_count": 5,
     "metadata": {},
     "output_type": "execute_result"
    }
   ],
   "source": [
    "df = df[df['Borough'] != 'Not assigned']\n",
    "\n",
    "df.head(11)"
   ]
  },
  {
   "cell_type": "markdown",
   "metadata": {},
   "source": [
    "## Grouping the data by 'Postal Code' and 'Borough'. \n",
    "### Then show the first 12."
   ]
  },
  {
   "cell_type": "code",
   "execution_count": 6,
   "metadata": {},
   "outputs": [
    {
     "data": {
      "text/html": [
       "<div>\n",
       "<style scoped>\n",
       "    .dataframe tbody tr th:only-of-type {\n",
       "        vertical-align: middle;\n",
       "    }\n",
       "\n",
       "    .dataframe tbody tr th {\n",
       "        vertical-align: top;\n",
       "    }\n",
       "\n",
       "    .dataframe thead th {\n",
       "        text-align: right;\n",
       "    }\n",
       "</style>\n",
       "<table border=\"1\" class=\"dataframe\">\n",
       "  <thead>\n",
       "    <tr style=\"text-align: right;\">\n",
       "      <th></th>\n",
       "      <th>Postal Code</th>\n",
       "      <th>Borough</th>\n",
       "      <th>Neighborhood</th>\n",
       "    </tr>\n",
       "  </thead>\n",
       "  <tbody>\n",
       "    <tr>\n",
       "      <th>0</th>\n",
       "      <td>M1B</td>\n",
       "      <td>Scarborough</td>\n",
       "      <td>Malvern, Rouge</td>\n",
       "    </tr>\n",
       "    <tr>\n",
       "      <th>1</th>\n",
       "      <td>M1C</td>\n",
       "      <td>Scarborough</td>\n",
       "      <td>Rouge Hill, Port Union, Highland Creek</td>\n",
       "    </tr>\n",
       "    <tr>\n",
       "      <th>2</th>\n",
       "      <td>M1E</td>\n",
       "      <td>Scarborough</td>\n",
       "      <td>Guildwood, Morningside, West Hill</td>\n",
       "    </tr>\n",
       "    <tr>\n",
       "      <th>3</th>\n",
       "      <td>M1G</td>\n",
       "      <td>Scarborough</td>\n",
       "      <td>Woburn</td>\n",
       "    </tr>\n",
       "    <tr>\n",
       "      <th>4</th>\n",
       "      <td>M1H</td>\n",
       "      <td>Scarborough</td>\n",
       "      <td>Cedarbrae</td>\n",
       "    </tr>\n",
       "    <tr>\n",
       "      <th>5</th>\n",
       "      <td>M1J</td>\n",
       "      <td>Scarborough</td>\n",
       "      <td>Scarborough Village</td>\n",
       "    </tr>\n",
       "    <tr>\n",
       "      <th>6</th>\n",
       "      <td>M1K</td>\n",
       "      <td>Scarborough</td>\n",
       "      <td>Kennedy Park, Ionview, East Birchmount Park</td>\n",
       "    </tr>\n",
       "    <tr>\n",
       "      <th>7</th>\n",
       "      <td>M1L</td>\n",
       "      <td>Scarborough</td>\n",
       "      <td>Golden Mile, Clairlea, Oakridge</td>\n",
       "    </tr>\n",
       "    <tr>\n",
       "      <th>8</th>\n",
       "      <td>M1M</td>\n",
       "      <td>Scarborough</td>\n",
       "      <td>Cliffside, Cliffcrest, Scarborough Village West</td>\n",
       "    </tr>\n",
       "    <tr>\n",
       "      <th>9</th>\n",
       "      <td>M1N</td>\n",
       "      <td>Scarborough</td>\n",
       "      <td>Birch Cliff, Cliffside West</td>\n",
       "    </tr>\n",
       "    <tr>\n",
       "      <th>10</th>\n",
       "      <td>M1P</td>\n",
       "      <td>Scarborough</td>\n",
       "      <td>Dorset Park, Wexford Heights, Scarborough Town...</td>\n",
       "    </tr>\n",
       "    <tr>\n",
       "      <th>11</th>\n",
       "      <td>M1R</td>\n",
       "      <td>Scarborough</td>\n",
       "      <td>Wexford, Maryvale</td>\n",
       "    </tr>\n",
       "  </tbody>\n",
       "</table>\n",
       "</div>"
      ],
      "text/plain": [
       "   Postal Code      Borough                                       Neighborhood\n",
       "0          M1B  Scarborough                                     Malvern, Rouge\n",
       "1          M1C  Scarborough             Rouge Hill, Port Union, Highland Creek\n",
       "2          M1E  Scarborough                  Guildwood, Morningside, West Hill\n",
       "3          M1G  Scarborough                                             Woburn\n",
       "4          M1H  Scarborough                                          Cedarbrae\n",
       "5          M1J  Scarborough                                Scarborough Village\n",
       "6          M1K  Scarborough        Kennedy Park, Ionview, East Birchmount Park\n",
       "7          M1L  Scarborough                    Golden Mile, Clairlea, Oakridge\n",
       "8          M1M  Scarborough    Cliffside, Cliffcrest, Scarborough Village West\n",
       "9          M1N  Scarborough                        Birch Cliff, Cliffside West\n",
       "10         M1P  Scarborough  Dorset Park, Wexford Heights, Scarborough Town...\n",
       "11         M1R  Scarborough                                  Wexford, Maryvale"
      ]
     },
     "execution_count": 6,
     "metadata": {},
     "output_type": "execute_result"
    }
   ],
   "source": [
    "df = df.groupby(['Postal Code', 'Borough'], as_index=False).agg(','.join)\n",
    "\n",
    "df.head(12)"
   ]
  },
  {
   "cell_type": "markdown",
   "metadata": {},
   "source": [
    "## The shape of the data."
   ]
  },
  {
   "cell_type": "code",
   "execution_count": 7,
   "metadata": {},
   "outputs": [
    {
     "data": {
      "text/plain": [
       "(103, 3)"
      ]
     },
     "execution_count": 7,
     "metadata": {},
     "output_type": "execute_result"
    }
   ],
   "source": [
    "df.shape"
   ]
  },
  {
   "cell_type": "markdown",
   "metadata": {},
   "source": [
    "## I should get the coordinates and put it in the data.\n",
    "## First I got the url and set a variable to it.\n",
    "## Second I read the .csv file.\n",
    "## Third I showed the head of the data (first 5)."
   ]
  },
  {
   "cell_type": "code",
   "execution_count": 8,
   "metadata": {},
   "outputs": [
    {
     "data": {
      "text/html": [
       "<div>\n",
       "<style scoped>\n",
       "    .dataframe tbody tr th:only-of-type {\n",
       "        vertical-align: middle;\n",
       "    }\n",
       "\n",
       "    .dataframe tbody tr th {\n",
       "        vertical-align: top;\n",
       "    }\n",
       "\n",
       "    .dataframe thead th {\n",
       "        text-align: right;\n",
       "    }\n",
       "</style>\n",
       "<table border=\"1\" class=\"dataframe\">\n",
       "  <thead>\n",
       "    <tr style=\"text-align: right;\">\n",
       "      <th></th>\n",
       "      <th>Postal Code</th>\n",
       "      <th>Latitude</th>\n",
       "      <th>Longitude</th>\n",
       "    </tr>\n",
       "  </thead>\n",
       "  <tbody>\n",
       "    <tr>\n",
       "      <th>0</th>\n",
       "      <td>M1B</td>\n",
       "      <td>43.806686</td>\n",
       "      <td>-79.194353</td>\n",
       "    </tr>\n",
       "    <tr>\n",
       "      <th>1</th>\n",
       "      <td>M1C</td>\n",
       "      <td>43.784535</td>\n",
       "      <td>-79.160497</td>\n",
       "    </tr>\n",
       "    <tr>\n",
       "      <th>2</th>\n",
       "      <td>M1E</td>\n",
       "      <td>43.763573</td>\n",
       "      <td>-79.188711</td>\n",
       "    </tr>\n",
       "    <tr>\n",
       "      <th>3</th>\n",
       "      <td>M1G</td>\n",
       "      <td>43.770992</td>\n",
       "      <td>-79.216917</td>\n",
       "    </tr>\n",
       "    <tr>\n",
       "      <th>4</th>\n",
       "      <td>M1H</td>\n",
       "      <td>43.773136</td>\n",
       "      <td>-79.239476</td>\n",
       "    </tr>\n",
       "  </tbody>\n",
       "</table>\n",
       "</div>"
      ],
      "text/plain": [
       "  Postal Code   Latitude  Longitude\n",
       "0         M1B  43.806686 -79.194353\n",
       "1         M1C  43.784535 -79.160497\n",
       "2         M1E  43.763573 -79.188711\n",
       "3         M1G  43.770992 -79.216917\n",
       "4         M1H  43.773136 -79.239476"
      ]
     },
     "execution_count": 8,
     "metadata": {},
     "output_type": "execute_result"
    }
   ],
   "source": [
    "coordinates_url = 'https://cocl.us/Geospatial_data'  # The url of the coordinates\n",
    "\n",
    "coordinates_data = pd.read_csv(coordinates_url)  # Reading the data.\n",
    "\n",
    "coordinates_data.head()  # Showing the first 5."
   ]
  },
  {
   "cell_type": "markdown",
   "metadata": {},
   "source": [
    "## After doing that I should merge the two data into one."
   ]
  },
  {
   "cell_type": "code",
   "execution_count": 9,
   "metadata": {},
   "outputs": [
    {
     "data": {
      "text/html": [
       "<div>\n",
       "<style scoped>\n",
       "    .dataframe tbody tr th:only-of-type {\n",
       "        vertical-align: middle;\n",
       "    }\n",
       "\n",
       "    .dataframe tbody tr th {\n",
       "        vertical-align: top;\n",
       "    }\n",
       "\n",
       "    .dataframe thead th {\n",
       "        text-align: right;\n",
       "    }\n",
       "</style>\n",
       "<table border=\"1\" class=\"dataframe\">\n",
       "  <thead>\n",
       "    <tr style=\"text-align: right;\">\n",
       "      <th></th>\n",
       "      <th>Postal Code</th>\n",
       "      <th>Borough</th>\n",
       "      <th>Neighborhood</th>\n",
       "      <th>Latitude</th>\n",
       "      <th>Longitude</th>\n",
       "    </tr>\n",
       "  </thead>\n",
       "  <tbody>\n",
       "    <tr>\n",
       "      <th>0</th>\n",
       "      <td>M1B</td>\n",
       "      <td>Scarborough</td>\n",
       "      <td>Malvern, Rouge</td>\n",
       "      <td>43.806686</td>\n",
       "      <td>-79.194353</td>\n",
       "    </tr>\n",
       "    <tr>\n",
       "      <th>1</th>\n",
       "      <td>M1C</td>\n",
       "      <td>Scarborough</td>\n",
       "      <td>Rouge Hill, Port Union, Highland Creek</td>\n",
       "      <td>43.784535</td>\n",
       "      <td>-79.160497</td>\n",
       "    </tr>\n",
       "    <tr>\n",
       "      <th>2</th>\n",
       "      <td>M1E</td>\n",
       "      <td>Scarborough</td>\n",
       "      <td>Guildwood, Morningside, West Hill</td>\n",
       "      <td>43.763573</td>\n",
       "      <td>-79.188711</td>\n",
       "    </tr>\n",
       "    <tr>\n",
       "      <th>3</th>\n",
       "      <td>M1G</td>\n",
       "      <td>Scarborough</td>\n",
       "      <td>Woburn</td>\n",
       "      <td>43.770992</td>\n",
       "      <td>-79.216917</td>\n",
       "    </tr>\n",
       "    <tr>\n",
       "      <th>4</th>\n",
       "      <td>M1H</td>\n",
       "      <td>Scarborough</td>\n",
       "      <td>Cedarbrae</td>\n",
       "      <td>43.773136</td>\n",
       "      <td>-79.239476</td>\n",
       "    </tr>\n",
       "    <tr>\n",
       "      <th>5</th>\n",
       "      <td>M1J</td>\n",
       "      <td>Scarborough</td>\n",
       "      <td>Scarborough Village</td>\n",
       "      <td>43.744734</td>\n",
       "      <td>-79.239476</td>\n",
       "    </tr>\n",
       "    <tr>\n",
       "      <th>6</th>\n",
       "      <td>M1K</td>\n",
       "      <td>Scarborough</td>\n",
       "      <td>Kennedy Park, Ionview, East Birchmount Park</td>\n",
       "      <td>43.727929</td>\n",
       "      <td>-79.262029</td>\n",
       "    </tr>\n",
       "    <tr>\n",
       "      <th>7</th>\n",
       "      <td>M1L</td>\n",
       "      <td>Scarborough</td>\n",
       "      <td>Golden Mile, Clairlea, Oakridge</td>\n",
       "      <td>43.711112</td>\n",
       "      <td>-79.284577</td>\n",
       "    </tr>\n",
       "    <tr>\n",
       "      <th>8</th>\n",
       "      <td>M1M</td>\n",
       "      <td>Scarborough</td>\n",
       "      <td>Cliffside, Cliffcrest, Scarborough Village West</td>\n",
       "      <td>43.716316</td>\n",
       "      <td>-79.239476</td>\n",
       "    </tr>\n",
       "    <tr>\n",
       "      <th>9</th>\n",
       "      <td>M1N</td>\n",
       "      <td>Scarborough</td>\n",
       "      <td>Birch Cliff, Cliffside West</td>\n",
       "      <td>43.692657</td>\n",
       "      <td>-79.264848</td>\n",
       "    </tr>\n",
       "  </tbody>\n",
       "</table>\n",
       "</div>"
      ],
      "text/plain": [
       "  Postal Code      Borough                                     Neighborhood  \\\n",
       "0         M1B  Scarborough                                   Malvern, Rouge   \n",
       "1         M1C  Scarborough           Rouge Hill, Port Union, Highland Creek   \n",
       "2         M1E  Scarborough                Guildwood, Morningside, West Hill   \n",
       "3         M1G  Scarborough                                           Woburn   \n",
       "4         M1H  Scarborough                                        Cedarbrae   \n",
       "5         M1J  Scarborough                              Scarborough Village   \n",
       "6         M1K  Scarborough      Kennedy Park, Ionview, East Birchmount Park   \n",
       "7         M1L  Scarborough                  Golden Mile, Clairlea, Oakridge   \n",
       "8         M1M  Scarborough  Cliffside, Cliffcrest, Scarborough Village West   \n",
       "9         M1N  Scarborough                      Birch Cliff, Cliffside West   \n",
       "\n",
       "    Latitude  Longitude  \n",
       "0  43.806686 -79.194353  \n",
       "1  43.784535 -79.160497  \n",
       "2  43.763573 -79.188711  \n",
       "3  43.770992 -79.216917  \n",
       "4  43.773136 -79.239476  \n",
       "5  43.744734 -79.239476  \n",
       "6  43.727929 -79.262029  \n",
       "7  43.711112 -79.284577  \n",
       "8  43.716316 -79.239476  \n",
       "9  43.692657 -79.264848  "
      ]
     },
     "execution_count": 9,
     "metadata": {},
     "output_type": "execute_result"
    }
   ],
   "source": [
    "df = pd.merge(left=df, right=coordinates_data, on='Postal Code')\n",
    "\n",
    "df.head(10)"
   ]
  },
  {
   "cell_type": "markdown",
   "metadata": {},
   "source": [
    "## Data Visualization"
   ]
  },
  {
   "cell_type": "code",
   "execution_count": 10,
   "metadata": {},
   "outputs": [
    {
     "data": {
      "text/plain": [
       "<matplotlib.axes._subplots.AxesSubplot at 0x1abee955f08>"
      ]
     },
     "execution_count": 10,
     "metadata": {},
     "output_type": "execute_result"
    },
    {
     "data": {
      "image/png": "[encoded data removed]",
      "text/plain": [
       "<Figure size 864x576 with 1 Axes>"
      ]
     },
     "metadata": {
      "needs_background": "light"
     },
     "output_type": "display_data"
    }
   ],
   "source": [
    "plt.figure(figsize=(12, 8))\n",
    "\n",
    "sns.countplot('Postal Code', data=df)"
   ]
  },
  {
   "cell_type": "code",
   "execution_count": 11,
   "metadata": {},
   "outputs": [
    {
     "data": {
      "text/plain": [
       "<matplotlib.axes._subplots.AxesSubplot at 0x1abeee3b948>"
      ]
     },
     "execution_count": 11,
     "metadata": {},
     "output_type": "execute_result"
    },
    {
     "data": {
      "image/png": "[encoded data removed]",
      "text/plain": [
       "<Figure size 864x576 with 1 Axes>"
      ]
     },
     "metadata": {
      "needs_background": "light"
     },
     "output_type": "display_data"
    }
   ],
   "source": [
    "plt.figure(figsize=(12, 8))\n",
    "\n",
    "sns.countplot('Borough', data=df)"
   ]
  },
  {
   "cell_type": "code",
   "execution_count": 12,
   "metadata": {},
   "outputs": [
    {
     "data": {
      "image/png": "[encoded data removed]",
      "text/plain": [
       "<Figure size 864x576 with 1 Axes>"
      ]
     },
     "metadata": {
      "needs_background": "light"
     },
     "output_type": "display_data"
    }
   ],
   "source": [
    "plt.figure(figsize=(12, 8))\n",
    "\n",
    "plt.scatter(x='Longitude', y='Latitude', data=df)\n",
    "\n",
    "plt.xlabel('Longitude')\n",
    "plt.ylabel('Latitude')\n",
    "plt.title('Simple map for Toronto')\n",
    "\n",
    "plt.show()"
   ]
  },
  {
   "cell_type": "markdown",
   "metadata": {},
   "source": [
    "# Question: 3"
   ]
  },
  {
   "cell_type": "markdown",
   "metadata": {},
   "source": [
    "## I should do some data analysis.\n",
    "## I want to convert the string data into numerical.\n",
    "## I will change string data to one hot encoding.\n",
    "\n",
    "### Dealing with Borough column."
   ]
  },
  {
   "cell_type": "code",
   "execution_count": 13,
   "metadata": {},
   "outputs": [
    {
     "data": {
      "text/html": [
       "<div>\n",
       "<style scoped>\n",
       "    .dataframe tbody tr th:only-of-type {\n",
       "        vertical-align: middle;\n",
       "    }\n",
       "\n",
       "    .dataframe tbody tr th {\n",
       "        vertical-align: top;\n",
       "    }\n",
       "\n",
       "    .dataframe thead th {\n",
       "        text-align: right;\n",
       "    }\n",
       "</style>\n",
       "<table border=\"1\" class=\"dataframe\">\n",
       "  <thead>\n",
       "    <tr style=\"text-align: right;\">\n",
       "      <th></th>\n",
       "      <th>Postal Code</th>\n",
       "      <th>Neighborhood</th>\n",
       "      <th>Latitude</th>\n",
       "      <th>Longitude</th>\n",
       "      <th>Downtown Toronto</th>\n",
       "      <th>East Toronto</th>\n",
       "      <th>East York</th>\n",
       "      <th>Etobicoke</th>\n",
       "      <th>Mississauga</th>\n",
       "      <th>North York</th>\n",
       "      <th>Scarborough</th>\n",
       "      <th>West Toronto</th>\n",
       "      <th>York</th>\n",
       "    </tr>\n",
       "  </thead>\n",
       "  <tbody>\n",
       "    <tr>\n",
       "      <th>0</th>\n",
       "      <td>M1B</td>\n",
       "      <td>Malvern, Rouge</td>\n",
       "      <td>43.806686</td>\n",
       "      <td>-79.194353</td>\n",
       "      <td>0</td>\n",
       "      <td>0</td>\n",
       "      <td>0</td>\n",
       "      <td>0</td>\n",
       "      <td>0</td>\n",
       "      <td>0</td>\n",
       "      <td>1</td>\n",
       "      <td>0</td>\n",
       "      <td>0</td>\n",
       "    </tr>\n",
       "    <tr>\n",
       "      <th>1</th>\n",
       "      <td>M1C</td>\n",
       "      <td>Rouge Hill, Port Union, Highland Creek</td>\n",
       "      <td>43.784535</td>\n",
       "      <td>-79.160497</td>\n",
       "      <td>0</td>\n",
       "      <td>0</td>\n",
       "      <td>0</td>\n",
       "      <td>0</td>\n",
       "      <td>0</td>\n",
       "      <td>0</td>\n",
       "      <td>1</td>\n",
       "      <td>0</td>\n",
       "      <td>0</td>\n",
       "    </tr>\n",
       "    <tr>\n",
       "      <th>2</th>\n",
       "      <td>M1E</td>\n",
       "      <td>Guildwood, Morningside, West Hill</td>\n",
       "      <td>43.763573</td>\n",
       "      <td>-79.188711</td>\n",
       "      <td>0</td>\n",
       "      <td>0</td>\n",
       "      <td>0</td>\n",
       "      <td>0</td>\n",
       "      <td>0</td>\n",
       "      <td>0</td>\n",
       "      <td>1</td>\n",
       "      <td>0</td>\n",
       "      <td>0</td>\n",
       "    </tr>\n",
       "    <tr>\n",
       "      <th>3</th>\n",
       "      <td>M1G</td>\n",
       "      <td>Woburn</td>\n",
       "      <td>43.770992</td>\n",
       "      <td>-79.216917</td>\n",
       "      <td>0</td>\n",
       "      <td>0</td>\n",
       "      <td>0</td>\n",
       "      <td>0</td>\n",
       "      <td>0</td>\n",
       "      <td>0</td>\n",
       "      <td>1</td>\n",
       "      <td>0</td>\n",
       "      <td>0</td>\n",
       "    </tr>\n",
       "    <tr>\n",
       "      <th>4</th>\n",
       "      <td>M1H</td>\n",
       "      <td>Cedarbrae</td>\n",
       "      <td>43.773136</td>\n",
       "      <td>-79.239476</td>\n",
       "      <td>0</td>\n",
       "      <td>0</td>\n",
       "      <td>0</td>\n",
       "      <td>0</td>\n",
       "      <td>0</td>\n",
       "      <td>0</td>\n",
       "      <td>1</td>\n",
       "      <td>0</td>\n",
       "      <td>0</td>\n",
       "    </tr>\n",
       "  </tbody>\n",
       "</table>\n",
       "</div>"
      ],
      "text/plain": [
       "  Postal Code                            Neighborhood   Latitude  Longitude  \\\n",
       "0         M1B                          Malvern, Rouge  43.806686 -79.194353   \n",
       "1         M1C  Rouge Hill, Port Union, Highland Creek  43.784535 -79.160497   \n",
       "2         M1E       Guildwood, Morningside, West Hill  43.763573 -79.188711   \n",
       "3         M1G                                  Woburn  43.770992 -79.216917   \n",
       "4         M1H                               Cedarbrae  43.773136 -79.239476   \n",
       "\n",
       "   Downtown Toronto  East Toronto  East York  Etobicoke  Mississauga  \\\n",
       "0                 0             0          0          0            0   \n",
       "1                 0             0          0          0            0   \n",
       "2                 0             0          0          0            0   \n",
       "3                 0             0          0          0            0   \n",
       "4                 0             0          0          0            0   \n",
       "\n",
       "   North York  Scarborough  West Toronto  York  \n",
       "0           0            1             0     0  \n",
       "1           0            1             0     0  \n",
       "2           0            1             0     0  \n",
       "3           0            1             0     0  \n",
       "4           0            1             0     0  "
      ]
     },
     "execution_count": 13,
     "metadata": {},
     "output_type": "execute_result"
    }
   ],
   "source": [
    "dummies = pd.get_dummies(df['Borough'], drop_first=True)\n",
    "\n",
    "df2 = pd.concat([df.drop('Borough', axis=1), dummies], axis=1)\n",
    "\n",
    "df2.head()"
   ]
  },
  {
   "cell_type": "markdown",
   "metadata": {},
   "source": [
    "### Dealing with Postal Code column."
   ]
  },
  {
   "cell_type": "code",
   "execution_count": 14,
   "metadata": {},
   "outputs": [
    {
     "data": {
      "text/html": [
       "<div>\n",
       "<style scoped>\n",
       "    .dataframe tbody tr th:only-of-type {\n",
       "        vertical-align: middle;\n",
       "    }\n",
       "\n",
       "    .dataframe tbody tr th {\n",
       "        vertical-align: top;\n",
       "    }\n",
       "\n",
       "    .dataframe thead th {\n",
       "        text-align: right;\n",
       "    }\n",
       "</style>\n",
       "<table border=\"1\" class=\"dataframe\">\n",
       "  <thead>\n",
       "    <tr style=\"text-align: right;\">\n",
       "      <th></th>\n",
       "      <th>Neighborhood</th>\n",
       "      <th>Latitude</th>\n",
       "      <th>Longitude</th>\n",
       "      <th>Downtown Toronto</th>\n",
       "      <th>East Toronto</th>\n",
       "      <th>East York</th>\n",
       "      <th>Etobicoke</th>\n",
       "      <th>Mississauga</th>\n",
       "      <th>North York</th>\n",
       "      <th>Scarborough</th>\n",
       "      <th>...</th>\n",
       "      <th>M9A</th>\n",
       "      <th>M9B</th>\n",
       "      <th>M9C</th>\n",
       "      <th>M9L</th>\n",
       "      <th>M9M</th>\n",
       "      <th>M9N</th>\n",
       "      <th>M9P</th>\n",
       "      <th>M9R</th>\n",
       "      <th>M9V</th>\n",
       "      <th>M9W</th>\n",
       "    </tr>\n",
       "  </thead>\n",
       "  <tbody>\n",
       "    <tr>\n",
       "      <th>0</th>\n",
       "      <td>Malvern, Rouge</td>\n",
       "      <td>43.806686</td>\n",
       "      <td>-79.194353</td>\n",
       "      <td>0</td>\n",
       "      <td>0</td>\n",
       "      <td>0</td>\n",
       "      <td>0</td>\n",
       "      <td>0</td>\n",
       "      <td>0</td>\n",
       "      <td>1</td>\n",
       "      <td>...</td>\n",
       "      <td>0</td>\n",
       "      <td>0</td>\n",
       "      <td>0</td>\n",
       "      <td>0</td>\n",
       "      <td>0</td>\n",
       "      <td>0</td>\n",
       "      <td>0</td>\n",
       "      <td>0</td>\n",
       "      <td>0</td>\n",
       "      <td>0</td>\n",
       "    </tr>\n",
       "    <tr>\n",
       "      <th>1</th>\n",
       "      <td>Rouge Hill, Port Union, Highland Creek</td>\n",
       "      <td>43.784535</td>\n",
       "      <td>-79.160497</td>\n",
       "      <td>0</td>\n",
       "      <td>0</td>\n",
       "      <td>0</td>\n",
       "      <td>0</td>\n",
       "      <td>0</td>\n",
       "      <td>0</td>\n",
       "      <td>1</td>\n",
       "      <td>...</td>\n",
       "      <td>0</td>\n",
       "      <td>0</td>\n",
       "      <td>0</td>\n",
       "      <td>0</td>\n",
       "      <td>0</td>\n",
       "      <td>0</td>\n",
       "      <td>0</td>\n",
       "      <td>0</td>\n",
       "      <td>0</td>\n",
       "      <td>0</td>\n",
       "    </tr>\n",
       "    <tr>\n",
       "      <th>2</th>\n",
       "      <td>Guildwood, Morningside, West Hill</td>\n",
       "      <td>43.763573</td>\n",
       "      <td>-79.188711</td>\n",
       "      <td>0</td>\n",
       "      <td>0</td>\n",
       "      <td>0</td>\n",
       "      <td>0</td>\n",
       "      <td>0</td>\n",
       "      <td>0</td>\n",
       "      <td>1</td>\n",
       "      <td>...</td>\n",
       "      <td>0</td>\n",
       "      <td>0</td>\n",
       "      <td>0</td>\n",
       "      <td>0</td>\n",
       "      <td>0</td>\n",
       "      <td>0</td>\n",
       "      <td>0</td>\n",
       "      <td>0</td>\n",
       "      <td>0</td>\n",
       "      <td>0</td>\n",
       "    </tr>\n",
       "    <tr>\n",
       "      <th>3</th>\n",
       "      <td>Woburn</td>\n",
       "      <td>43.770992</td>\n",
       "      <td>-79.216917</td>\n",
       "      <td>0</td>\n",
       "      <td>0</td>\n",
       "      <td>0</td>\n",
       "      <td>0</td>\n",
       "      <td>0</td>\n",
       "      <td>0</td>\n",
       "      <td>1</td>\n",
       "      <td>...</td>\n",
       "      <td>0</td>\n",
       "      <td>0</td>\n",
       "      <td>0</td>\n",
       "      <td>0</td>\n",
       "      <td>0</td>\n",
       "      <td>0</td>\n",
       "      <td>0</td>\n",
       "      <td>0</td>\n",
       "      <td>0</td>\n",
       "      <td>0</td>\n",
       "    </tr>\n",
       "    <tr>\n",
       "      <th>4</th>\n",
       "      <td>Cedarbrae</td>\n",
       "      <td>43.773136</td>\n",
       "      <td>-79.239476</td>\n",
       "      <td>0</td>\n",
       "      <td>0</td>\n",
       "      <td>0</td>\n",
       "      <td>0</td>\n",
       "      <td>0</td>\n",
       "      <td>0</td>\n",
       "      <td>1</td>\n",
       "      <td>...</td>\n",
       "      <td>0</td>\n",
       "      <td>0</td>\n",
       "      <td>0</td>\n",
       "      <td>0</td>\n",
       "      <td>0</td>\n",
       "      <td>0</td>\n",
       "      <td>0</td>\n",
       "      <td>0</td>\n",
       "      <td>0</td>\n",
       "      <td>0</td>\n",
       "    </tr>\n",
       "  </tbody>\n",
       "</table>\n",
       "<p>5 rows × 114 columns</p>\n",
       "</div>"
      ],
      "text/plain": [
       "                             Neighborhood   Latitude  Longitude  \\\n",
       "0                          Malvern, Rouge  43.806686 -79.194353   \n",
       "1  Rouge Hill, Port Union, Highland Creek  43.784535 -79.160497   \n",
       "2       Guildwood, Morningside, West Hill  43.763573 -79.188711   \n",
       "3                                  Woburn  43.770992 -79.216917   \n",
       "4                               Cedarbrae  43.773136 -79.239476   \n",
       "\n",
       "   Downtown Toronto  East Toronto  East York  Etobicoke  Mississauga  \\\n",
       "0                 0             0          0          0            0   \n",
       "1                 0             0          0          0            0   \n",
       "2                 0             0          0          0            0   \n",
       "3                 0             0          0          0            0   \n",
       "4                 0             0          0          0            0   \n",
       "\n",
       "   North York  Scarborough  ...  M9A  M9B  M9C  M9L  M9M  M9N  M9P  M9R  M9V  \\\n",
       "0           0            1  ...    0    0    0    0    0    0    0    0    0   \n",
       "1           0            1  ...    0    0    0    0    0    0    0    0    0   \n",
       "2           0            1  ...    0    0    0    0    0    0    0    0    0   \n",
       "3           0            1  ...    0    0    0    0    0    0    0    0    0   \n",
       "4           0            1  ...    0    0    0    0    0    0    0    0    0   \n",
       "\n",
       "   M9W  \n",
       "0    0  \n",
       "1    0  \n",
       "2    0  \n",
       "3    0  \n",
       "4    0  \n",
       "\n",
       "[5 rows x 114 columns]"
      ]
     },
     "execution_count": 14,
     "metadata": {},
     "output_type": "execute_result"
    }
   ],
   "source": [
    "dummies = pd.get_dummies(df['Postal Code'], drop_first=True)\n",
    "\n",
    "df2 = pd.concat([df2.drop('Postal Code', axis=1), dummies], axis=1)\n",
    "\n",
    "df2.head()"
   ]
  },
  {
   "cell_type": "markdown",
   "metadata": {},
   "source": [
    "### I'll not use the Neighborhood columns so I will drop it \n",
    "\n",
    "## Importing KMeans, Creating the model and fitting it."
   ]
  },
  {
   "cell_type": "code",
   "execution_count": 15,
   "metadata": {},
   "outputs": [
    {
     "data": {
      "text/plain": [
       "array([2, 2, 2, 2, 2, 2, 2, 2, 2, 2])"
      ]
     },
     "execution_count": 15,
     "metadata": {},
     "output_type": "execute_result"
    }
   ],
   "source": [
    "\n",
    "kclusters = 5  # Set the clusters to 5.\n",
    "\n",
    "# run k-means clustering\n",
    "# Creating the model and fitting it.\n",
    "kmeans = KMeans(n_clusters=kclusters, random_state=42).fit(df2.drop('Neighborhood', axis=1))\n",
    "\n",
    "# check cluster labels generated for each row in the dataframe\n",
    "kmeans.labels_[0:10] "
   ]
  },
  {
   "cell_type": "markdown",
   "metadata": {},
   "source": [
    "## Since, I'm working on dataset on Toronto, So I should get the coordinates to be able to generate a map for it."
   ]
  },
  {
   "cell_type": "markdown",
   "metadata": {},
   "source": [
    "### Getting the coordinates."
   ]
  },
  {
   "cell_type": "code",
   "execution_count": 16,
   "metadata": {},
   "outputs": [
    {
     "name": "stdout",
     "output_type": "stream",
     "text": [
      "The geograpical coordinate of Toronto are 43.6534817, -79.3839347.\n"
     ]
    }
   ],
   "source": [
    "address = 'Toronto, CA'\n",
    "\n",
    "geolocator = Nominatim(user_agent=\"ny_explorer\")\n",
    "location = geolocator.geocode(address)\n",
    "latitude = location.latitude\n",
    "longitude = location.longitude\n",
    "print('The geograpical coordinate of Toronto are {}, {}.'.format(latitude, longitude))"
   ]
  },
  {
   "cell_type": "markdown",
   "metadata": {},
   "source": [
    "## Creating a new column which have the kmeans labels"
   ]
  },
  {
   "cell_type": "code",
   "execution_count": 17,
   "metadata": {},
   "outputs": [],
   "source": [
    "df.insert(0, 'Cluster Labels', kmeans.labels_)"
   ]
  },
  {
   "cell_type": "code",
   "execution_count": 18,
   "metadata": {},
   "outputs": [
    {
     "data": {
      "text/plain": [
       "array([2, 2, 2, 2, 2, 2, 2, 2, 2, 2, 2, 2, 2, 2, 2, 2, 2, 1, 1, 1, 1, 1,\n",
       "       1, 1, 1, 1, 1, 1, 1, 1, 1, 1, 1, 1, 1, 0, 0, 0, 0, 0, 0, 0, 0, 0,\n",
       "       0, 0, 0, 0, 0, 0, 3, 3, 3, 3, 3, 3, 3, 3, 3, 3, 3, 3, 1, 0, 0, 0,\n",
       "       3, 3, 3, 3, 3, 1, 1, 0, 0, 3, 4, 4, 4, 1, 0, 0, 4, 4, 4, 3, 0, 0,\n",
       "       0, 0, 0, 0, 0, 0, 0, 0, 1, 1, 0, 0, 0, 0, 0])"
      ]
     },
     "execution_count": 18,
     "metadata": {},
     "output_type": "execute_result"
    }
   ],
   "source": [
    "kmeans.labels_"
   ]
  },
  {
   "cell_type": "markdown",
   "metadata": {},
   "source": [
    "## Here I generate the map."
   ]
  },
  {
   "cell_type": "code",
   "execution_count": 19,
   "metadata": {},
   "outputs": [
    {
     "data": {
      "text/html": [
       "<div style=\"width:100%;\"><div style=\"position:relative;width:100%;height:0;padding-bottom:60%;\"><iframe src=\"about:blank\" style=\"position:absolute;width:100%;height:100%;left:0;top:0;border:none !important;\" data-html=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 onload=\"this.contentDocument.open();this.contentDocument.write(atob(this.getAttribute('data-html')));this.contentDocument.close();\" allowfullscreen webkitallowfullscreen mozallowfullscreen></iframe></div></div>"
      ],
      "text/plain": [
       "<folium.folium.Map at 0x1abef26dd48>"
      ]
     },
     "execution_count": 19,
     "metadata": {},
     "output_type": "execute_result"
    }
   ],
   "source": [
    "# create map\n",
    "map_clusters = folium.Map(location=[latitude, longitude], zoom_start=11)\n",
    "\n",
    "# set color scheme for the clusters\n",
    "x = np.arange(kclusters)\n",
    "ys = [i + x + (i*x)**2 for i in range(kclusters)]\n",
    "colors_array = cm.rainbow(np.linspace(0, 1, len(ys)))\n",
    "rainbow = [colors.rgb2hex(i) for i in colors_array]\n",
    "\n",
    "# add markers to the map\n",
    "markers_colors = []\n",
    "for lat, lon, poi, cluster in zip(df['Latitude'], df['Longitude'], df['Neighborhood'], df['Cluster Labels']):\n",
    "    label = folium.Popup(str(poi) + ' Cluster ' + str(cluster), parse_html=True)\n",
    "    folium.CircleMarker(\n",
    "        [lat, lon],\n",
    "        radius=5,\n",
    "        popup=label,\n",
    "        color=rainbow[cluster-1],\n",
    "        fill=True,\n",
    "        fill_color=rainbow[cluster-1],\n",
    "        fill_opacity=0.7).add_to(map_clusters)\n",
    "       \n",
    "map_clusters"
   ]
  },
  {
   "cell_type": "code",
   "execution_count": null,
   "metadata": {},
   "outputs": [],
   "source": []
  }
 ],
 "metadata": {
  "kernelspec": {
   "display_name": "Python 3",
   "language": "python",
   "name": "python3"
  },
  "language_info": {
   "codemirror_mode": {
    "name": "ipython",
    "version": 3
   },
   "file_extension": ".py",
   "mimetype": "text/x-python",
   "name": "python",
   "nbconvert_exporter": "python",
   "pygments_lexer": "ipython3",
   "version": "3.7.6"
  }
 },
 "nbformat": 4,
 "nbformat_minor": 4
}
