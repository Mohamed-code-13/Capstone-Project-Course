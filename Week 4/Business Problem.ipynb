{
 "cells": [
  {
   "cell_type": "markdown",
   "metadata": {},
   "source": [
    "# BY: Mohamed Ashraf Gaber.\n",
    "\n",
    "# The Battle of Neighborhoods:-\n",
    "## Part 1: Business Problem.\n",
    "\n",
    "## Introduction:-\n",
    "    The purpose of this project is to recommend places for people who are traveling too much and need to know what is the best place to go and visit.\n",
    "\n",
    "    For now, the project will be just for Toronto. Toronto, the capital of the province of Ontario, is a major Canadian city along Lake Ontario’s northwestern shore. It's a dynamic metropolis with a core of soaring skyscrapers, all dwarfed by the iconic, free-standing CN Tower. Toronto also has many green spaces, from the orderly oval of Queen’s Park to 400-acre High Park and its trails, sports facilities, and zoo.\n",
    "\n",
    "## The Problem:-\n",
    "    The problem is that we want to get all places in Toronto and arrange them so when anyone wants to visit the city we easily give him the best places including coffee shops, restaurants, hotels, etc.\n",
    "\n",
    "## Foursquare API:-\n",
    "    As I mention I want to get the data for all places in Toronto and one of the best places I can get the data from is Foursquare API so I will use it to grab all the data I need.\n",
    "\n",
    "## Clustering:-\n",
    "    I should use clustering to be able to divide places into clusters.\n",
    "\n",
    "## Other important things:-\n",
    "    There are other important things I will use such as Python to get and handle the data and other libraries. The other libraries are: \n",
    "    Pandas: For creating data rames.\n",
    "    Folium, Seaborn, and Matplotlib: for visualization and showing the map.\n",
    "    Beautiful Soup and requests: for scraping data and tables from websites and handle the requests and the data.\n",
    "    Sickit Learn: to import K-Means for clustering."
   ]
  }
 ],
 "metadata": {
  "kernelspec": {
   "display_name": "Python 3",
   "language": "python",
   "name": "python3"
  },
  "language_info": {
   "codemirror_mode": {
    "name": "ipython",
    "version": 3
   },
   "file_extension": ".py",
   "mimetype": "text/x-python",
   "name": "python",
   "nbconvert_exporter": "python",
   "pygments_lexer": "ipython3",
   "version": "3.7.6"
  }
 },
 "nbformat": 4,
 "nbformat_minor": 4
}
